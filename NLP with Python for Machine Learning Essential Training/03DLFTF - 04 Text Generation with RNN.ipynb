{
 "cells": [
  {
   "cell_type": "markdown",
   "metadata": {
    "id": "lTguFckTEDWd"
   },
   "source": [
    "# Introduction to Text generation\n",
    "\n",
    "This notebook explains how we can split a given corpus of data into features and labels and then train a neural network to predict the next word in a sentence.\n",
    "\n",
    "1. Create a corpus - break the text down to list of sentences.\n",
    "2. Create a word_index(vocabulary) from the text.\n",
    "3. Tokenize the data and create n-gram sequence for each sequence of the corpus.\n",
    "4. Pad those sequences.\n",
    "5. Segregate features from the sequences by reserving the last element of the array as labels.\n"
   ]
  },
  {
   "cell_type": "code",
   "execution_count": 65,
   "metadata": {
    "id": "9mW3Mt2q5kL2"
   },
   "outputs": [
    {
     "name": "stdout",
     "output_type": "stream",
     "text": [
      "2.13.1\n"
     ]
    }
   ],
   "source": [
    "##import the required libraries and APIs\n",
    "import numpy as np\n",
    "import tensorflow as tf\n",
    "import tensorflow_datasets as tfds\n",
    "from tensorflow.keras.preprocessing.text import Tokenizer\n",
    "from tensorflow.keras.preprocessing.sequence import pad_sequences\n",
    "\n",
    "print(tf.__version__)"
   ]
  },
  {
   "cell_type": "markdown",
   "metadata": {
    "id": "QFhZpNjHoxSt"
   },
   "source": [
    "#### Step 1: Create a corpus"
   ]
  },
  {
   "cell_type": "code",
   "execution_count": 67,
   "metadata": {
    "id": "CwT0yxfRgZY_"
   },
   "outputs": [],
   "source": [
    "data = \"October arrived, spreading a damp chill over the grounds and into the castle.\\n Madam Pomfrey, the nurse, was kept busy by a sudden spate of colds among the staff and students.\\n Her Pepperup potion worked instantly, though it left the drinker smoking at the ears for several hours afterward. Ginny Weasley, who had been looking pale, was bullied into taking some by Percy.\\n The steam pouring from under her vivid hair gave the impression that her whole head was on fire.\\n Raindrops the size of bullets thundered on the castle windows for days on end; the lake rose, the flower beds turned into muddy streams, and Hagrid's pumpkins swelled to the size of garden sheds.\\n Oliver Wood's enthusiasm for regular training sessions, however, was not dampened, which was why Harry was to be found, late one stormy Saturday afternoon a few days before Halloween, returning to Gryffindor Tower, drenched to the skin and splattered with mud.\"\n"
   ]
  },
  {
   "cell_type": "code",
   "execution_count": 69,
   "metadata": {
    "id": "EYtWr3OAoz53"
   },
   "outputs": [
    {
     "name": "stdout",
     "output_type": "stream",
     "text": [
      "['october arrived, spreading a damp chill over the grounds and into the castle.', ' madam pomfrey, the nurse, was kept busy by a sudden spate of colds among the staff and students.', ' her pepperup potion worked instantly, though it left the drinker smoking at the ears for several hours afterward. ginny weasley, who had been looking pale, was bullied into taking some by percy.', ' the steam pouring from under her vivid hair gave the impression that her whole head was on fire.', \" raindrops the size of bullets thundered on the castle windows for days on end; the lake rose, the flower beds turned into muddy streams, and hagrid's pumpkins swelled to the size of garden sheds.\", \" oliver wood's enthusiasm for regular training sessions, however, was not dampened, which was why harry was to be found, late one stormy saturday afternoon a few days before halloween, returning to gryffindor tower, drenched to the skin and splattered with mud.\"]\n"
     ]
    }
   ],
   "source": [
    "##instantiate tokenizer\n",
    "tokenizer = Tokenizer()\n",
    "\n",
    "##create corpus by lowering the letters and splitting the text by \\n\n",
    "corpus = data.lower().split(\"\\n\")\n",
    "print(corpus)"
   ]
  },
  {
   "cell_type": "markdown",
   "metadata": {
    "id": "1ce_7Op3eHPS"
   },
   "source": [
    "#### Step 2: Train the tokenizer and create word encoding dictionary"
   ]
  },
  {
   "cell_type": "code",
   "execution_count": 71,
   "metadata": {
    "id": "aAoHN0Ar01tt"
   },
   "outputs": [
    {
     "name": "stdout",
     "output_type": "stream",
     "text": [
      "{'the': 1, 'was': 2, 'and': 3, 'to': 4, 'a': 5, 'into': 6, 'of': 7, 'her': 8, 'for': 9, 'on': 10, 'castle': 11, 'by': 12, 'size': 13, 'days': 14, 'october': 15, 'arrived': 16, 'spreading': 17, 'damp': 18, 'chill': 19, 'over': 20, 'grounds': 21, 'madam': 22, 'pomfrey': 23, 'nurse': 24, 'kept': 25, 'busy': 26, 'sudden': 27, 'spate': 28, 'colds': 29, 'among': 30, 'staff': 31, 'students': 32, 'pepperup': 33, 'potion': 34, 'worked': 35, 'instantly': 36, 'though': 37, 'it': 38, 'left': 39, 'drinker': 40, 'smoking': 41, 'at': 42, 'ears': 43, 'several': 44, 'hours': 45, 'afterward': 46, 'ginny': 47, 'weasley': 48, 'who': 49, 'had': 50, 'been': 51, 'looking': 52, 'pale': 53, 'bullied': 54, 'taking': 55, 'some': 56, 'percy': 57, 'steam': 58, 'pouring': 59, 'from': 60, 'under': 61, 'vivid': 62, 'hair': 63, 'gave': 64, 'impression': 65, 'that': 66, 'whole': 67, 'head': 68, 'fire': 69, 'raindrops': 70, 'bullets': 71, 'thundered': 72, 'windows': 73, 'end': 74, 'lake': 75, 'rose': 76, 'flower': 77, 'beds': 78, 'turned': 79, 'muddy': 80, 'streams': 81, \"hagrid's\": 82, 'pumpkins': 83, 'swelled': 84, 'garden': 85, 'sheds': 86, 'oliver': 87, \"wood's\": 88, 'enthusiasm': 89, 'regular': 90, 'training': 91, 'sessions': 92, 'however': 93, 'not': 94, 'dampened': 95, 'which': 96, 'why': 97, 'harry': 98, 'be': 99, 'found': 100, 'late': 101, 'one': 102, 'stormy': 103, 'saturday': 104, 'afternoon': 105, 'few': 106, 'before': 107, 'halloween': 108, 'returning': 109, 'gryffindor': 110, 'tower': 111, 'drenched': 112, 'skin': 113, 'splattered': 114, 'with': 115, 'mud': 116}\n",
      "117\n"
     ]
    }
   ],
   "source": [
    "tokenizer.fit_on_texts(corpus)\n",
    "\n",
    "##calculate vocabulary size - +1 for  token\n",
    "vocab_size = len(tokenizer.word_index) + 1\n",
    "\n",
    "print(tokenizer.word_index)\n",
    "print(vocab_size)"
   ]
  },
  {
   "cell_type": "markdown",
   "metadata": {
    "id": "9t0633pzeA5y"
   },
   "source": [
    "#### Step 3: Create N-gram sequence"
   ]
  },
  {
   "cell_type": "markdown",
   "metadata": {},
   "source": [
    "<center>\n",
    "    <img src=\"images/ngram.png\" width=\"500\" />\n",
    "</center>"
   ]
  },
  {
   "cell_type": "code",
   "execution_count": 73,
   "metadata": {
    "id": "3uEYLlk8ra-O"
   },
   "outputs": [],
   "source": [
    "##create n-gram sequences of each text sequence\n",
    "input_sequences = []\n",
    "for line in corpus:\n",
    "    tokens = tokenizer.texts_to_sequences([line])[0]  # get all the tokens of the sequence\n",
    "    for i in range(1, len(tokens)):                   # create n-gram sequences\n",
    "        n_gram_sequence = tokens[:i+1]\n",
    "        input_sequences.append(n_gram_sequence)\n"
   ]
  },
  {
   "cell_type": "markdown",
   "metadata": {},
   "source": [
    "#### Step 4: Pad those sequence"
   ]
  },
  {
   "cell_type": "code",
   "execution_count": 75,
   "metadata": {
    "id": "1zzrLngux8Bd"
   },
   "outputs": [],
   "source": [
    "##pad sequences\n",
    "max_seq_len = max([len(i) for i in input_sequences])\n",
    "input_seq_array = np.array(pad_sequences(input_sequences,\n",
    "                                         maxlen=max_seq_len,\n",
    "                                         padding='pre')\n",
    "                        )"
   ]
  },
  {
   "cell_type": "markdown",
   "metadata": {
    "id": "WJiCqSqYeQDM"
   },
   "source": [
    "#### Step 5: Segregate features"
   ]
  },
  {
   "cell_type": "markdown",
   "metadata": {},
   "source": [
    "<center>\n",
    "    <img src=\"images/extra.png\" width=\"800\" />\n",
    "</center>"
   ]
  },
  {
   "cell_type": "code",
   "execution_count": 77,
   "metadata": {
    "id": "tTGbnKtG1zqD"
   },
   "outputs": [],
   "source": [
    "##creating features(X) and label(y)\n",
    "X = input_seq_array[:, :-1]\n",
    "labels = input_seq_array[:, -1]\n",
    "\n",
    "##one-hot encode the labels to get y\n",
    "y = tf.keras.utils.to_categorical(labels, num_classes=vocab_size)"
   ]
  },
  {
   "cell_type": "code",
   "execution_count": 83,
   "metadata": {
    "id": "3X_GvVM22Wsm"
   },
   "outputs": [
    {
     "name": "stdout",
     "output_type": "stream",
     "text": [
      "116\n",
      "\n",
      "[ 0  0  0  0  0  0  0  0  0  0  0  0  0  0  0  0  0  0  0  0  0  0  0  0\n",
      "  0  0  0  0  0  0  0  0  0  0  0  0  0  0  0 15]\n",
      "\n",
      "[0. 0. 0. 0. 0. 0. 0. 0. 0. 0. 0. 0. 0. 0. 0. 0. 1. 0. 0. 0. 0. 0. 0. 0.\n",
      " 0. 0. 0. 0. 0. 0. 0. 0. 0. 0. 0. 0. 0. 0. 0. 0. 0. 0. 0. 0. 0. 0. 0. 0.\n",
      " 0. 0. 0. 0. 0. 0. 0. 0. 0. 0. 0. 0. 0. 0. 0. 0. 0. 0. 0. 0. 0. 0. 0. 0.\n",
      " 0. 0. 0. 0. 0. 0. 0. 0. 0. 0. 0. 0. 0. 0. 0. 0. 0. 0. 0. 0. 0. 0. 0. 0.\n",
      " 0. 0. 0. 0. 0. 0. 0. 0. 0. 0. 0. 0. 0. 0. 0. 0. 0. 0. 0. 0. 0.]\n"
     ]
    }
   ],
   "source": [
    "print(tokenizer.word_index['mud'])\n",
    "print()\n",
    "print(X[0])\n",
    "print()\n",
    "print(y[0])"
   ]
  },
  {
   "cell_type": "markdown",
   "metadata": {
    "id": "lFLkSjPoeg-B"
   },
   "source": [
    "#### Define the LSTM model"
   ]
  },
  {
   "cell_type": "code",
   "execution_count": null,
   "metadata": {
    "id": "95bU1pLN5c0s"
   },
   "outputs": [],
   "source": [
    "# Initialize a Sequential model\n",
    "model = tf.keras.Sequential([  # Initialize a Sequential model\n",
    "\n",
    "    tf.keras.layers.Embedding(vocab_size, \n",
    "                              64, \n",
    "                              input_length=max_seq_len-1),  \n",
    "\n",
    "    tf.keras.layers.Bidirectional(tf.keras.layers.LSTM(32)),  # Bidirectional LSTM layer with 32 units: processes sequences in both directions (forward and backward)\n",
    "\n",
    "    tf.keras.layers.Dense(vocab_size, activation='softmax')  # Dense layer: fully connected with softmax activation for multi-class classification\n",
    "])\n",
    "\n",
    "model.compile(  # Compile the model with loss, optimizer, and evaluation metric\n",
    "    loss='categorical_crossentropy',  # Loss function for multi-class classification\n",
    "    optimizer='adam',  # Adaptive Moment Estimation optimizer\n",
    "    metrics=['accuracy']  # Evaluate model performance using accuracy\n",
    ")\n",
    "\n",
    "history = model.fit(  # Train the model with input data X and target labels y\n",
    "    X,  # Input sequences\n",
    "    y,  # Target labels\n",
    "    epochs=500,  # Train for 500 epochs\n",
    "    verbose=1  # Print progress during training\n",
    ")\n"
   ]
  },
  {
   "cell_type": "markdown",
   "metadata": {
    "id": "IDpFBjlzm1Up"
   },
   "source": [
    "#### Visualize metrics"
   ]
  },
  {
   "cell_type": "code",
   "execution_count": null,
   "metadata": {
    "id": "tc7nqPbg5tBy"
   },
   "outputs": [],
   "source": [
    "import matplotlib.pyplot as plt\n",
    "\n",
    "\n",
    "def plot_metric(history, metric):\n",
    "  plt.plot(history.history[metric])\n",
    "  plt.xlabel(\"Epochs\")\n",
    "  plt.ylabel(metric)\n",
    "  plt.show()"
   ]
  },
  {
   "cell_type": "code",
   "execution_count": null,
   "metadata": {
    "id": "hHHODnWIrobv"
   },
   "outputs": [],
   "source": [
    "plot_metric(history, 'accuracy')"
   ]
  },
  {
   "cell_type": "markdown",
   "metadata": {
    "id": "6GLsNdvSm3uv"
   },
   "source": [
    "#### Generate new text"
   ]
  },
  {
   "cell_type": "code",
   "execution_count": null,
   "metadata": {
    "id": "db3z5YdkrtXI"
   },
   "outputs": [],
   "source": [
    "seed_text = \"It was a cold night.\"\n",
    "\n",
    "##add number of words you want to predict\n",
    "next_words = 100\n",
    "  \n",
    "##run the loop to predict and concatenate the word\n",
    "for _ in range(next_words):\n",
    "\ttoken_list = tokenizer.texts_to_sequences([seed_text])[0]\n",
    "\ttoken_list = pad_sequences([token_list], maxlen=max_seq_len-1, padding='pre')\n",
    " \n",
    "    ##predict the class using the trained model\n",
    "\tpredicted = model.predict_classes(token_list, verbose=0)\n",
    "\toutput_word = \"\"\n",
    "\tfor word, index in tokenizer.word_index.items():\n",
    "        ##reference the predicted class with the vocabulary\n",
    "\t\tif index == predicted:\n",
    "\t\t\toutput_word = word\n",
    "\t\t\tbreak\n",
    "\tseed_text += \" \" + output_word\n",
    "print(seed_text)"
   ]
  },
  {
   "cell_type": "markdown",
   "metadata": {},
   "source": [
    "# Generate Poetry"
   ]
  },
  {
   "cell_type": "markdown",
   "metadata": {},
   "source": [
    "This notebook serves as a challenge on how to create poetry like Shakespeare by leveraging RNNs(LSTMs). We'll be using the Shakerpeare poetry as the training data and then use the trained network to predict the next words."
   ]
  },
  {
   "cell_type": "code",
   "execution_count": 26,
   "metadata": {},
   "outputs": [
    {
     "name": "stdout",
     "output_type": "stream",
     "text": [
      "2.13.1\n"
     ]
    }
   ],
   "source": [
    "##import the required libraries and APIs\n",
    "import numpy as np\n",
    "import tensorflow as tf\n",
    "import tensorflow_datasets as tfds\n",
    "from tensorflow.keras.preprocessing.text import Tokenizer\n",
    "from tensorflow.keras.preprocessing.sequence import pad_sequences\n",
    "\n",
    "print(tf.__version__)"
   ]
  },
  {
   "cell_type": "markdown",
   "metadata": {},
   "source": [
    "#### Step 1: Create a corpus"
   ]
  },
  {
   "cell_type": "code",
   "execution_count": 13,
   "metadata": {},
   "outputs": [
    {
     "name": "stdout",
     "output_type": "stream",
     "text": [
      "28893\n"
     ]
    }
   ],
   "source": [
    "##printing the text\n",
    "shakespeare_text = open('data/sonnets.txt').read()\n",
    "print(len(shakespeare_text))"
   ]
  },
  {
   "cell_type": "code",
   "execution_count": 19,
   "metadata": {},
   "outputs": [
    {
     "data": {
      "text/plain": [
       "['i',\n",
       " '',\n",
       " ' from fairest creatures we desire increase,',\n",
       " \" that thereby beauty's rose might never die,\",\n",
       " ' but as the riper should by time decease,',\n",
       " ' his tender heir might bear his memory:',\n",
       " ' but thou, contracted to thine own bright eyes,',\n",
       " \" feed'st thy light's flame with self-substantial fuel,\",\n",
       " ' making a famine where abundance lies,',\n",
       " ' thy self thy foe, to thy sweet self too cruel:']"
      ]
     },
     "execution_count": 19,
     "metadata": {},
     "output_type": "execute_result"
    }
   ],
   "source": [
    "##create corpus by lowering the letters and splitting the text by \\n\n",
    "corpus = shakespeare_text.lower().split(\"\\n\")\n",
    "corpus[:10]"
   ]
  },
  {
   "cell_type": "code",
   "execution_count": 22,
   "metadata": {},
   "outputs": [],
   "source": [
    "#print(corpus)"
   ]
  },
  {
   "cell_type": "markdown",
   "metadata": {},
   "source": [
    "#### Step 2: Train the tokenizer and create word encoding dictionary"
   ]
  },
  {
   "cell_type": "code",
   "execution_count": 36,
   "metadata": {},
   "outputs": [
    {
     "name": "stdout",
     "output_type": "stream",
     "text": [
      "1544\n"
     ]
    }
   ],
   "source": [
    "##set up tokenizer\n",
    "tokenizer = Tokenizer()\n",
    "\n",
    "tokenizer.fit_on_texts(corpus)\n",
    "\n",
    "##calculate vocabulary size - be mindful of the  token\n",
    "vocab_size = len(tokenizer.word_index) + 1\n",
    "\n",
    "#print(tokenizer.word_index)\n",
    "\n",
    "print(vocab_size)"
   ]
  },
  {
   "cell_type": "markdown",
   "metadata": {},
   "source": [
    "#### Step 3: Create N-gram sequence"
   ]
  },
  {
   "cell_type": "code",
   "execution_count": 40,
   "metadata": {},
   "outputs": [],
   "source": [
    "##create sequences of \n",
    "input_sequences = []\n",
    "for line in corpus:\n",
    "    tokens = tokenizer.texts_to_sequences([line])[0]\n",
    "    for i in range(1, len(tokens)):\n",
    "        n_gram_sequence = tokens[:i+1]\n",
    "        input_sequences.append(n_gram_sequence)"
   ]
  },
  {
   "cell_type": "markdown",
   "metadata": {},
   "source": [
    "#### Step 4: Pad those sequence"
   ]
  },
  {
   "cell_type": "code",
   "execution_count": 43,
   "metadata": {},
   "outputs": [],
   "source": [
    "##pad sequences\n",
    "max_seq_len = max([len(i) for i in input_sequences])\n",
    "input_seq_array = np.array(pad_sequences(input_sequences,\n",
    "                                         maxlen=max_seq_len,\n",
    "                                         padding='pre')\n",
    "                        )"
   ]
  },
  {
   "cell_type": "markdown",
   "metadata": {},
   "source": [
    "#### Step 5: Segregate features¶"
   ]
  },
  {
   "cell_type": "code",
   "execution_count": 46,
   "metadata": {},
   "outputs": [],
   "source": [
    "##creating features(X) and label(y)\n",
    "X = input_seq_array[:, :-1]\n",
    "labels = input_seq_array[:, -1]\n",
    "\n",
    "##one-hot encode the labels to get y - since it is actually just a classification problem\n",
    "y = tf.keras.utils.to_categorical(labels, num_classes=vocab_size)"
   ]
  },
  {
   "cell_type": "markdown",
   "metadata": {},
   "source": [
    "### Define the LSTM model"
   ]
  },
  {
   "cell_type": "code",
   "execution_count": 51,
   "metadata": {},
   "outputs": [
    {
     "name": "stdout",
     "output_type": "stream",
     "text": [
      "Epoch 1/200\n",
      "142/142 [==============================] - 24s 36ms/step - loss: 6.7245 - accuracy: 0.0214\n",
      "Epoch 2/200\n",
      "142/142 [==============================] - 5s 37ms/step - loss: 6.0806 - accuracy: 0.0391\n",
      "Epoch 3/200\n",
      "142/142 [==============================] - 5s 35ms/step - loss: 5.5044 - accuracy: 0.0650\n",
      "Epoch 4/200\n",
      "142/142 [==============================] - 5s 37ms/step - loss: 4.6038 - accuracy: 0.1200\n",
      "Epoch 5/200\n",
      "142/142 [==============================] - 5s 36ms/step - loss: 3.4689 - accuracy: 0.2519\n",
      "Epoch 6/200\n",
      "142/142 [==============================] - 5s 36ms/step - loss: 2.3982 - accuracy: 0.4496\n",
      "Epoch 7/200\n",
      "142/142 [==============================] - 5s 35ms/step - loss: 1.6031 - accuracy: 0.6200\n",
      "Epoch 8/200\n",
      "142/142 [==============================] - 5s 36ms/step - loss: 1.0672 - accuracy: 0.7572\n",
      "Epoch 9/200\n",
      "142/142 [==============================] - 5s 35ms/step - loss: 0.7520 - accuracy: 0.8274\n",
      "Epoch 10/200\n",
      "142/142 [==============================] - 5s 36ms/step - loss: 0.5911 - accuracy: 0.8619\n",
      "Epoch 11/200\n",
      "142/142 [==============================] - 5s 36ms/step - loss: 0.5045 - accuracy: 0.8747\n",
      "Epoch 12/200\n",
      "142/142 [==============================] - 5s 36ms/step - loss: 0.4755 - accuracy: 0.8738\n",
      "Epoch 13/200\n",
      "142/142 [==============================] - 5s 37ms/step - loss: 0.4572 - accuracy: 0.8769\n",
      "Epoch 14/200\n",
      "142/142 [==============================] - 5s 36ms/step - loss: 0.4479 - accuracy: 0.8745\n",
      "Epoch 15/200\n",
      "142/142 [==============================] - 5s 36ms/step - loss: 0.4370 - accuracy: 0.8738\n",
      "Epoch 16/200\n",
      "142/142 [==============================] - 5s 37ms/step - loss: 0.4295 - accuracy: 0.8756\n",
      "Epoch 17/200\n",
      "142/142 [==============================] - 5s 36ms/step - loss: 0.4216 - accuracy: 0.8763\n",
      "Epoch 18/200\n",
      "142/142 [==============================] - 5s 36ms/step - loss: 0.4153 - accuracy: 0.8772\n",
      "Epoch 19/200\n",
      "142/142 [==============================] - 5s 36ms/step - loss: 0.4148 - accuracy: 0.8738\n",
      "Epoch 20/200\n",
      "142/142 [==============================] - 5s 38ms/step - loss: 0.4137 - accuracy: 0.8736\n",
      "Epoch 21/200\n",
      "142/142 [==============================] - 5s 37ms/step - loss: 0.4105 - accuracy: 0.8769\n",
      "Epoch 22/200\n",
      "142/142 [==============================] - 5s 36ms/step - loss: 0.4254 - accuracy: 0.8734\n",
      "Epoch 23/200\n",
      "142/142 [==============================] - 5s 36ms/step - loss: 1.1711 - accuracy: 0.6989\n",
      "Epoch 24/200\n",
      "142/142 [==============================] - 5s 36ms/step - loss: 3.3726 - accuracy: 0.2740\n",
      "Epoch 25/200\n",
      "142/142 [==============================] - 5s 37ms/step - loss: 2.0664 - accuracy: 0.4982\n",
      "Epoch 26/200\n",
      "142/142 [==============================] - 5s 36ms/step - loss: 1.1907 - accuracy: 0.6880\n",
      "Epoch 27/200\n",
      "142/142 [==============================] - 5s 37ms/step - loss: 0.7339 - accuracy: 0.8104\n",
      "Epoch 28/200\n",
      "142/142 [==============================] - 5s 36ms/step - loss: 0.5356 - accuracy: 0.8601\n",
      "Epoch 29/200\n",
      "142/142 [==============================] - 5s 35ms/step - loss: 0.4589 - accuracy: 0.8738\n",
      "Epoch 30/200\n",
      "142/142 [==============================] - 5s 35ms/step - loss: 0.4329 - accuracy: 0.8743\n",
      "Epoch 31/200\n",
      "142/142 [==============================] - 5s 33ms/step - loss: 0.4177 - accuracy: 0.8776\n",
      "Epoch 32/200\n",
      "142/142 [==============================] - 5s 37ms/step - loss: 0.4118 - accuracy: 0.8758\n",
      "Epoch 33/200\n",
      "142/142 [==============================] - 5s 36ms/step - loss: 0.4053 - accuracy: 0.8756\n",
      "Epoch 34/200\n",
      "142/142 [==============================] - 5s 36ms/step - loss: 0.3989 - accuracy: 0.8774\n",
      "Epoch 35/200\n",
      "142/142 [==============================] - 5s 36ms/step - loss: 0.4000 - accuracy: 0.8754\n",
      "Epoch 36/200\n",
      "142/142 [==============================] - 5s 36ms/step - loss: 0.3958 - accuracy: 0.8754\n",
      "Epoch 37/200\n",
      "142/142 [==============================] - 5s 35ms/step - loss: 0.3958 - accuracy: 0.8765\n",
      "Epoch 38/200\n",
      "142/142 [==============================] - 5s 36ms/step - loss: 0.3954 - accuracy: 0.8741\n",
      "Epoch 39/200\n",
      "142/142 [==============================] - 6s 39ms/step - loss: 0.3914 - accuracy: 0.8769\n",
      "Epoch 40/200\n",
      "142/142 [==============================] - 5s 37ms/step - loss: 0.3926 - accuracy: 0.8747\n",
      "Epoch 41/200\n",
      "142/142 [==============================] - 5s 35ms/step - loss: 0.3910 - accuracy: 0.8780\n",
      "Epoch 42/200\n",
      "142/142 [==============================] - 5s 36ms/step - loss: 0.3926 - accuracy: 0.8774\n",
      "Epoch 43/200\n",
      "142/142 [==============================] - 5s 37ms/step - loss: 0.3891 - accuracy: 0.8789\n",
      "Epoch 44/200\n",
      "142/142 [==============================] - 5s 33ms/step - loss: 0.3909 - accuracy: 0.8747\n",
      "Epoch 45/200\n",
      "142/142 [==============================] - 5s 34ms/step - loss: 0.3899 - accuracy: 0.8747\n",
      "Epoch 46/200\n",
      "142/142 [==============================] - 5s 35ms/step - loss: 0.3910 - accuracy: 0.8745\n",
      "Epoch 47/200\n",
      "142/142 [==============================] - 5s 34ms/step - loss: 0.3922 - accuracy: 0.8732\n",
      "Epoch 48/200\n",
      "142/142 [==============================] - 5s 37ms/step - loss: 0.3884 - accuracy: 0.8774\n",
      "Epoch 49/200\n",
      "142/142 [==============================] - 5s 34ms/step - loss: 0.3891 - accuracy: 0.8760\n",
      "Epoch 50/200\n",
      "142/142 [==============================] - 5s 34ms/step - loss: 0.3913 - accuracy: 0.8747\n",
      "Epoch 51/200\n",
      "142/142 [==============================] - 5s 36ms/step - loss: 0.3895 - accuracy: 0.8765\n",
      "Epoch 52/200\n",
      "142/142 [==============================] - 5s 36ms/step - loss: 0.3906 - accuracy: 0.8772\n",
      "Epoch 53/200\n",
      "142/142 [==============================] - 5s 34ms/step - loss: 0.3975 - accuracy: 0.8749\n",
      "Epoch 54/200\n",
      "142/142 [==============================] - 5s 36ms/step - loss: 1.9111 - accuracy: 0.5703\n",
      "Epoch 55/200\n",
      "142/142 [==============================] - 5s 37ms/step - loss: 3.4410 - accuracy: 0.2978\n",
      "Epoch 56/200\n",
      "142/142 [==============================] - 5s 36ms/step - loss: 1.8625 - accuracy: 0.5354\n",
      "Epoch 57/200\n",
      "142/142 [==============================] - 5s 36ms/step - loss: 1.0831 - accuracy: 0.7081\n",
      "Epoch 58/200\n",
      "142/142 [==============================] - 5s 36ms/step - loss: 0.6801 - accuracy: 0.8171\n",
      "Epoch 59/200\n",
      "142/142 [==============================] - 5s 36ms/step - loss: 0.5118 - accuracy: 0.8628\n",
      "Epoch 60/200\n",
      "142/142 [==============================] - 5s 36ms/step - loss: 0.4478 - accuracy: 0.8741\n",
      "Epoch 61/200\n",
      "142/142 [==============================] - 5s 36ms/step - loss: 0.4249 - accuracy: 0.8736\n",
      "Epoch 62/200\n",
      "142/142 [==============================] - 5s 37ms/step - loss: 0.4118 - accuracy: 0.8769\n",
      "Epoch 63/200\n",
      "142/142 [==============================] - 5s 37ms/step - loss: 0.4054 - accuracy: 0.8780\n",
      "Epoch 64/200\n",
      "142/142 [==============================] - 5s 37ms/step - loss: 0.4019 - accuracy: 0.8767\n",
      "Epoch 65/200\n",
      "142/142 [==============================] - 5s 38ms/step - loss: 0.3956 - accuracy: 0.8791\n",
      "Epoch 66/200\n",
      "142/142 [==============================] - 5s 35ms/step - loss: 0.3936 - accuracy: 0.8767\n",
      "Epoch 67/200\n",
      "142/142 [==============================] - 5s 36ms/step - loss: 0.3958 - accuracy: 0.8745\n",
      "Epoch 68/200\n",
      "142/142 [==============================] - 5s 36ms/step - loss: 0.3959 - accuracy: 0.8756\n",
      "Epoch 69/200\n",
      "142/142 [==============================] - 5s 33ms/step - loss: 0.3917 - accuracy: 0.8765\n",
      "Epoch 70/200\n",
      "142/142 [==============================] - 5s 35ms/step - loss: 0.3902 - accuracy: 0.8763\n",
      "Epoch 71/200\n",
      "142/142 [==============================] - 5s 34ms/step - loss: 0.3913 - accuracy: 0.8785\n",
      "Epoch 72/200\n",
      "142/142 [==============================] - 5s 33ms/step - loss: 0.3882 - accuracy: 0.8774\n",
      "Epoch 73/200\n",
      "142/142 [==============================] - 5s 35ms/step - loss: 0.3903 - accuracy: 0.8754\n",
      "Epoch 74/200\n",
      "142/142 [==============================] - 5s 37ms/step - loss: 0.3912 - accuracy: 0.8767\n",
      "Epoch 75/200\n",
      "142/142 [==============================] - 5s 37ms/step - loss: 0.3918 - accuracy: 0.8747\n",
      "Epoch 76/200\n",
      "142/142 [==============================] - 5s 36ms/step - loss: 0.3858 - accuracy: 0.8791\n",
      "Epoch 77/200\n",
      "142/142 [==============================] - 5s 37ms/step - loss: 0.3882 - accuracy: 0.8800\n",
      "Epoch 78/200\n",
      "142/142 [==============================] - 5s 35ms/step - loss: 0.3890 - accuracy: 0.8754\n",
      "Epoch 79/200\n",
      "142/142 [==============================] - 5s 37ms/step - loss: 0.3898 - accuracy: 0.8763\n",
      "Epoch 80/200\n",
      "142/142 [==============================] - 5s 37ms/step - loss: 0.3888 - accuracy: 0.8749\n",
      "Epoch 81/200\n",
      "142/142 [==============================] - 5s 37ms/step - loss: 0.3908 - accuracy: 0.8730\n",
      "Epoch 82/200\n",
      "142/142 [==============================] - 5s 37ms/step - loss: 0.3894 - accuracy: 0.8765\n",
      "Epoch 83/200\n",
      "142/142 [==============================] - 5s 33ms/step - loss: 0.3943 - accuracy: 0.8776\n",
      "Epoch 84/200\n",
      "142/142 [==============================] - 5s 36ms/step - loss: 0.4520 - accuracy: 0.8619\n",
      "Epoch 85/200\n",
      "142/142 [==============================] - 5s 35ms/step - loss: 2.6409 - accuracy: 0.4335\n",
      "Epoch 86/200\n",
      "142/142 [==============================] - 5s 34ms/step - loss: 2.3837 - accuracy: 0.4686\n",
      "Epoch 87/200\n",
      "142/142 [==============================] - 5s 36ms/step - loss: 1.3097 - accuracy: 0.6542\n",
      "Epoch 88/200\n",
      "142/142 [==============================] - 5s 34ms/step - loss: 0.8246 - accuracy: 0.7749\n",
      "Epoch 89/200\n",
      "142/142 [==============================] - 5s 33ms/step - loss: 0.5841 - accuracy: 0.8396\n",
      "Epoch 90/200\n",
      "142/142 [==============================] - 5s 36ms/step - loss: 0.4751 - accuracy: 0.8674\n",
      "Epoch 91/200\n",
      "142/142 [==============================] - 5s 35ms/step - loss: 0.4360 - accuracy: 0.8734\n",
      "Epoch 92/200\n",
      "142/142 [==============================] - 5s 36ms/step - loss: 0.4143 - accuracy: 0.8741\n",
      "Epoch 93/200\n",
      "142/142 [==============================] - 6s 39ms/step - loss: 0.4087 - accuracy: 0.8765\n",
      "Epoch 94/200\n",
      "142/142 [==============================] - 5s 33ms/step - loss: 0.3978 - accuracy: 0.8785\n",
      "Epoch 95/200\n",
      "142/142 [==============================] - 5s 36ms/step - loss: 0.4012 - accuracy: 0.8734\n",
      "Epoch 96/200\n",
      "142/142 [==============================] - 5s 37ms/step - loss: 0.3936 - accuracy: 0.8783\n",
      "Epoch 97/200\n",
      "142/142 [==============================] - 5s 34ms/step - loss: 0.3950 - accuracy: 0.8756\n",
      "Epoch 98/200\n",
      "142/142 [==============================] - 5s 37ms/step - loss: 0.3908 - accuracy: 0.8785\n",
      "Epoch 99/200\n",
      "142/142 [==============================] - 5s 35ms/step - loss: 0.3915 - accuracy: 0.8763\n",
      "Epoch 100/200\n",
      "142/142 [==============================] - 5s 36ms/step - loss: 0.3893 - accuracy: 0.8789\n",
      "Epoch 101/200\n",
      "142/142 [==============================] - 5s 37ms/step - loss: 0.3896 - accuracy: 0.8772\n",
      "Epoch 102/200\n",
      "142/142 [==============================] - 5s 38ms/step - loss: 0.3905 - accuracy: 0.8767\n",
      "Epoch 103/200\n",
      "142/142 [==============================] - 5s 36ms/step - loss: 0.3898 - accuracy: 0.8747\n",
      "Epoch 104/200\n",
      "142/142 [==============================] - 6s 39ms/step - loss: 0.3866 - accuracy: 0.8754\n",
      "Epoch 105/200\n",
      "142/142 [==============================] - 6s 40ms/step - loss: 0.3884 - accuracy: 0.8749\n",
      "Epoch 106/200\n",
      "142/142 [==============================] - 5s 37ms/step - loss: 0.3873 - accuracy: 0.8760\n",
      "Epoch 107/200\n",
      "142/142 [==============================] - 5s 35ms/step - loss: 0.3880 - accuracy: 0.8756\n",
      "Epoch 108/200\n",
      "142/142 [==============================] - 5s 36ms/step - loss: 0.3951 - accuracy: 0.8765\n",
      "Epoch 109/200\n",
      "142/142 [==============================] - 5s 34ms/step - loss: 0.3951 - accuracy: 0.8745\n",
      "Epoch 110/200\n",
      "142/142 [==============================] - 5s 33ms/step - loss: 0.3912 - accuracy: 0.8787\n",
      "Epoch 111/200\n",
      "142/142 [==============================] - 5s 36ms/step - loss: 0.3960 - accuracy: 0.8785\n",
      "Epoch 112/200\n",
      "142/142 [==============================] - 5s 32ms/step - loss: 0.4019 - accuracy: 0.8765\n",
      "Epoch 113/200\n",
      "142/142 [==============================] - 5s 37ms/step - loss: 0.5520 - accuracy: 0.8361\n",
      "Epoch 114/200\n",
      "142/142 [==============================] - 5s 35ms/step - loss: 2.1410 - accuracy: 0.5230\n",
      "Epoch 115/200\n",
      "142/142 [==============================] - 5s 36ms/step - loss: 1.9840 - accuracy: 0.5327\n",
      "Epoch 116/200\n",
      "142/142 [==============================] - 5s 36ms/step - loss: 1.1784 - accuracy: 0.6803\n",
      "Epoch 117/200\n",
      "142/142 [==============================] - 5s 37ms/step - loss: 0.7455 - accuracy: 0.7897\n",
      "Epoch 118/200\n",
      "142/142 [==============================] - 5s 36ms/step - loss: 0.5389 - accuracy: 0.8473\n",
      "Epoch 119/200\n",
      "142/142 [==============================] - 5s 36ms/step - loss: 0.4593 - accuracy: 0.8732\n",
      "Epoch 120/200\n",
      "142/142 [==============================] - 5s 37ms/step - loss: 0.4214 - accuracy: 0.8745\n",
      "Epoch 121/200\n",
      "142/142 [==============================] - 5s 36ms/step - loss: 0.4089 - accuracy: 0.8780\n",
      "Epoch 122/200\n",
      "142/142 [==============================] - 5s 36ms/step - loss: 0.4007 - accuracy: 0.8763\n",
      "Epoch 123/200\n",
      "142/142 [==============================] - 5s 36ms/step - loss: 0.3976 - accuracy: 0.8749\n",
      "Epoch 124/200\n",
      "142/142 [==============================] - 5s 36ms/step - loss: 0.3948 - accuracy: 0.8765\n",
      "Epoch 125/200\n",
      "142/142 [==============================] - 5s 36ms/step - loss: 0.3935 - accuracy: 0.8767\n",
      "Epoch 126/200\n",
      "142/142 [==============================] - 5s 36ms/step - loss: 0.3908 - accuracy: 0.8774\n",
      "Epoch 127/200\n",
      "142/142 [==============================] - 5s 36ms/step - loss: 0.3910 - accuracy: 0.8760\n",
      "Epoch 128/200\n",
      "142/142 [==============================] - 5s 36ms/step - loss: 0.3877 - accuracy: 0.8767\n",
      "Epoch 129/200\n",
      "142/142 [==============================] - 5s 35ms/step - loss: 0.3901 - accuracy: 0.8756\n",
      "Epoch 130/200\n",
      "142/142 [==============================] - 5s 37ms/step - loss: 0.3882 - accuracy: 0.8765\n",
      "Epoch 131/200\n",
      "142/142 [==============================] - 5s 36ms/step - loss: 0.3868 - accuracy: 0.8769\n",
      "Epoch 132/200\n",
      "142/142 [==============================] - 5s 35ms/step - loss: 0.3866 - accuracy: 0.8776\n",
      "Epoch 133/200\n",
      "142/142 [==============================] - 6s 39ms/step - loss: 0.3850 - accuracy: 0.8774\n",
      "Epoch 134/200\n",
      "142/142 [==============================] - 5s 35ms/step - loss: 0.3891 - accuracy: 0.8732\n",
      "Epoch 135/200\n",
      "142/142 [==============================] - 5s 35ms/step - loss: 0.3867 - accuracy: 0.8760\n",
      "Epoch 136/200\n",
      "142/142 [==============================] - 5s 35ms/step - loss: 0.3897 - accuracy: 0.8778\n",
      "Epoch 137/200\n",
      "142/142 [==============================] - 5s 35ms/step - loss: 0.3871 - accuracy: 0.8763\n",
      "Epoch 138/200\n",
      "142/142 [==============================] - 5s 33ms/step - loss: 0.3865 - accuracy: 0.8769\n",
      "Epoch 139/200\n",
      "142/142 [==============================] - 5s 35ms/step - loss: 0.3895 - accuracy: 0.8791\n",
      "Epoch 140/200\n",
      "142/142 [==============================] - 5s 37ms/step - loss: 0.3881 - accuracy: 0.8778\n",
      "Epoch 141/200\n",
      "142/142 [==============================] - 5s 35ms/step - loss: 0.3890 - accuracy: 0.8774\n",
      "Epoch 142/200\n",
      "142/142 [==============================] - 5s 35ms/step - loss: 0.3886 - accuracy: 0.8778\n",
      "Epoch 143/200\n",
      "142/142 [==============================] - 5s 35ms/step - loss: 0.3920 - accuracy: 0.8780\n",
      "Epoch 144/200\n",
      "142/142 [==============================] - 5s 35ms/step - loss: 0.4384 - accuracy: 0.8650\n",
      "Epoch 145/200\n",
      "142/142 [==============================] - 5s 37ms/step - loss: 1.5829 - accuracy: 0.6312\n",
      "Epoch 146/200\n",
      "142/142 [==============================] - 5s 32ms/step - loss: 2.3790 - accuracy: 0.4735\n",
      "Epoch 147/200\n",
      "142/142 [==============================] - 5s 35ms/step - loss: 1.4269 - accuracy: 0.6368\n",
      "Epoch 148/200\n",
      "142/142 [==============================] - 5s 38ms/step - loss: 0.8595 - accuracy: 0.7603\n",
      "Epoch 149/200\n",
      "142/142 [==============================] - 5s 36ms/step - loss: 0.6039 - accuracy: 0.8299\n",
      "Epoch 150/200\n",
      "142/142 [==============================] - 5s 36ms/step - loss: 0.4812 - accuracy: 0.8665\n",
      "Epoch 151/200\n",
      "142/142 [==============================] - 5s 35ms/step - loss: 0.4398 - accuracy: 0.8734\n",
      "Epoch 152/200\n",
      "142/142 [==============================] - 5s 36ms/step - loss: 0.4198 - accuracy: 0.8754\n",
      "Epoch 153/200\n",
      "142/142 [==============================] - 5s 36ms/step - loss: 0.4026 - accuracy: 0.8772\n",
      "Epoch 154/200\n",
      "142/142 [==============================] - 5s 35ms/step - loss: 0.3962 - accuracy: 0.8787\n",
      "Epoch 155/200\n",
      "142/142 [==============================] - 5s 36ms/step - loss: 0.3942 - accuracy: 0.8783\n",
      "Epoch 156/200\n",
      "142/142 [==============================] - 5s 36ms/step - loss: 0.3923 - accuracy: 0.8785\n",
      "Epoch 157/200\n",
      "142/142 [==============================] - 5s 36ms/step - loss: 0.3910 - accuracy: 0.8778\n",
      "Epoch 158/200\n",
      "142/142 [==============================] - 5s 36ms/step - loss: 0.3901 - accuracy: 0.8754\n",
      "Epoch 159/200\n",
      "142/142 [==============================] - 5s 36ms/step - loss: 0.3888 - accuracy: 0.8756\n",
      "Epoch 160/200\n",
      "142/142 [==============================] - 5s 34ms/step - loss: 0.3882 - accuracy: 0.8778\n",
      "Epoch 161/200\n",
      "142/142 [==============================] - 5s 36ms/step - loss: 0.3852 - accuracy: 0.8772\n",
      "Epoch 162/200\n",
      "142/142 [==============================] - 5s 35ms/step - loss: 0.3880 - accuracy: 0.8763\n",
      "Epoch 163/200\n",
      "142/142 [==============================] - 5s 35ms/step - loss: 0.3839 - accuracy: 0.8787\n",
      "Epoch 164/200\n",
      "142/142 [==============================] - 5s 36ms/step - loss: 0.3877 - accuracy: 0.8754\n",
      "Epoch 165/200\n",
      "142/142 [==============================] - 5s 36ms/step - loss: 0.3828 - accuracy: 0.8794\n",
      "Epoch 166/200\n",
      "142/142 [==============================] - 5s 37ms/step - loss: 0.3864 - accuracy: 0.8767\n",
      "Epoch 167/200\n",
      "142/142 [==============================] - 5s 33ms/step - loss: 0.3888 - accuracy: 0.8765\n",
      "Epoch 168/200\n",
      "142/142 [==============================] - 5s 35ms/step - loss: 0.3912 - accuracy: 0.8756\n",
      "Epoch 169/200\n",
      "142/142 [==============================] - 5s 37ms/step - loss: 0.3862 - accuracy: 0.8798\n",
      "Epoch 170/200\n",
      "142/142 [==============================] - 5s 36ms/step - loss: 0.3909 - accuracy: 0.8767\n",
      "Epoch 171/200\n",
      "142/142 [==============================] - 5s 36ms/step - loss: 0.3913 - accuracy: 0.8763\n",
      "Epoch 172/200\n",
      "142/142 [==============================] - 5s 35ms/step - loss: 0.3902 - accuracy: 0.8772\n",
      "Epoch 173/200\n",
      "142/142 [==============================] - 5s 33ms/step - loss: 0.4189 - accuracy: 0.8734\n",
      "Epoch 174/200\n",
      "142/142 [==============================] - 5s 37ms/step - loss: 0.7819 - accuracy: 0.7815\n",
      "Epoch 175/200\n",
      "142/142 [==============================] - 5s 37ms/step - loss: 1.6139 - accuracy: 0.6111\n",
      "Epoch 176/200\n",
      "142/142 [==============================] - 5s 37ms/step - loss: 1.3919 - accuracy: 0.6536\n",
      "Epoch 177/200\n",
      "142/142 [==============================] - 5s 36ms/step - loss: 0.9067 - accuracy: 0.7525\n",
      "Epoch 178/200\n",
      "142/142 [==============================] - 5s 34ms/step - loss: 0.7161 - accuracy: 0.7985\n",
      "Epoch 179/200\n",
      "142/142 [==============================] - 5s 34ms/step - loss: 0.5379 - accuracy: 0.8451\n",
      "Epoch 180/200\n",
      "142/142 [==============================] - 5s 36ms/step - loss: 0.4595 - accuracy: 0.8679\n",
      "Epoch 181/200\n",
      "142/142 [==============================] - 5s 36ms/step - loss: 0.4232 - accuracy: 0.8741\n",
      "Epoch 182/200\n",
      "142/142 [==============================] - 5s 36ms/step - loss: 0.4081 - accuracy: 0.8776\n",
      "Epoch 183/200\n",
      "142/142 [==============================] - 5s 36ms/step - loss: 0.3997 - accuracy: 0.8754\n",
      "Epoch 184/200\n",
      "142/142 [==============================] - 5s 35ms/step - loss: 0.3982 - accuracy: 0.8741\n",
      "Epoch 185/200\n",
      "142/142 [==============================] - 5s 35ms/step - loss: 0.3918 - accuracy: 0.8774\n",
      "Epoch 186/200\n",
      "142/142 [==============================] - 5s 35ms/step - loss: 0.3918 - accuracy: 0.8774\n",
      "Epoch 187/200\n",
      "142/142 [==============================] - 5s 36ms/step - loss: 0.3910 - accuracy: 0.8774\n",
      "Epoch 188/200\n",
      "142/142 [==============================] - 6s 43ms/step - loss: 0.3895 - accuracy: 0.8760\n",
      "Epoch 189/200\n",
      "142/142 [==============================] - 5s 37ms/step - loss: 0.3903 - accuracy: 0.8763\n",
      "Epoch 190/200\n",
      "142/142 [==============================] - 5s 33ms/step - loss: 0.3887 - accuracy: 0.8774\n",
      "Epoch 191/200\n",
      "142/142 [==============================] - 4s 28ms/step - loss: 0.3931 - accuracy: 0.8747\n",
      "Epoch 192/200\n",
      "142/142 [==============================] - 5s 33ms/step - loss: 0.3886 - accuracy: 0.8745\n",
      "Epoch 193/200\n",
      "142/142 [==============================] - 5s 35ms/step - loss: 0.3874 - accuracy: 0.8769\n",
      "Epoch 194/200\n",
      "142/142 [==============================] - 5s 34ms/step - loss: 0.3881 - accuracy: 0.8765\n",
      "Epoch 195/200\n",
      "142/142 [==============================] - 5s 35ms/step - loss: 0.3887 - accuracy: 0.8763\n",
      "Epoch 196/200\n",
      "142/142 [==============================] - 5s 37ms/step - loss: 0.3890 - accuracy: 0.8767\n",
      "Epoch 197/200\n",
      "142/142 [==============================] - 5s 36ms/step - loss: 0.3874 - accuracy: 0.8760\n",
      "Epoch 198/200\n",
      "142/142 [==============================] - 5s 35ms/step - loss: 0.3891 - accuracy: 0.8763\n",
      "Epoch 199/200\n",
      "142/142 [==============================] - 5s 34ms/step - loss: 0.3915 - accuracy: 0.8754\n",
      "Epoch 200/200\n",
      "142/142 [==============================] - 5s 36ms/step - loss: 0.3907 - accuracy: 0.8741\n"
     ]
    }
   ],
   "source": [
    "# Create a Sequential model\n",
    "model = tf.keras.Sequential([ \n",
    "    \n",
    "    # Embedding layer: Converts input sequences into dense vectors of fixed size\n",
    "    tf.keras.layers.Embedding(vocab_size, 120, input_length=max_seq_len-1),  # vocab_size: size of the vocabulary; \n",
    "                                                                             # 120: dimensionality of the output space; \n",
    "                                                                             # max_seq_len-1: length of input sequences\n",
    "    \n",
    "    # Bidirectional LSTM layer: Processes the input sequences in both forward and backward directions to capture context from both sides\n",
    "    tf.keras.layers.Bidirectional(tf.keras.layers.LSTM(120)),  # 120: number of output units for the LSTM layer\n",
    "\n",
    "    # Dense layer: Output layer that produces a probability distribution over the vocabulary (softmax activation function)\n",
    "    tf.keras.layers.Dense(vocab_size, activation='softmax')  # vocab_size: number of output neurons equal to the size of the vocabulary; \n",
    "                                                             # 'softmax': activation function for multi-class classification\n",
    "])\n",
    "\n",
    "# Define the learning rate - step size for the optimizer\n",
    "adam = tf.keras.optimizers.Adam(learning_rate=0.01)  # Adam optimizer with a learning rate of 0.01\n",
    "\n",
    "# Compile the model with categorical crossentropy loss and Adam optimizer\n",
    "model.compile(loss='categorical_crossentropy',  # Loss function for multi-class classification\n",
    "              optimizer=adam,                   # Optimizer to use for updating the model weights\n",
    "              metrics=['accuracy'])             # Metric to evaluate the model's performance\n",
    "\n",
    "# Train the model\n",
    "history = model.fit(X, y,        # X: input data; y: target data\n",
    "                    epochs=200,  # Number of epochs (iterations over the entire dataset)\n",
    "                    verbose=1)   # Verbosity mode; 1 displays progress bar"
   ]
  },
  {
   "cell_type": "markdown",
   "metadata": {},
   "source": [
    "### Visualise the metrics"
   ]
  },
  {
   "cell_type": "code",
   "execution_count": 52,
   "metadata": {},
   "outputs": [
    {
     "data": {
      "image/png": "[encoded data removed]",
      "text/plain": [
       "<Figure size 640x480 with 1 Axes>"
      ]
     },
     "metadata": {},
     "output_type": "display_data"
    }
   ],
   "source": [
    "import matplotlib.pyplot as plt\n",
    "\n",
    "\n",
    "def plot_metric(history, metric):\n",
    "  plt.plot(history.history[metric])\n",
    "  plt.xlabel(\"Epochs\")\n",
    "  plt.ylabel(metric)\n",
    "  plt.show()\n",
    "\n",
    "plot_metric(history, 'accuracy')"
   ]
  },
  {
   "cell_type": "markdown",
   "metadata": {},
   "source": [
    "### Generate new text"
   ]
  },
  {
   "cell_type": "code",
   "execution_count": 56,
   "metadata": {},
   "outputs": [
    {
     "name": "stdout",
     "output_type": "stream",
     "text": [
      "It was a cold night. doth see away fair me thee i make have make darkness imaginary since height deeds of say dost things give the art painted part of me me thee me be make wanting love's heaven thee toward thee themselves me true in viewest live are war thee my heart remain me me i love and say mine thee all all that metre of mine through did fair cover me be borne alone true for remember'd me thee heaven not made praise do heart ' in summer's use when thou it no remain remain it and in thee love and numbers where\n"
     ]
    }
   ],
   "source": [
    "seed_text = \"It was a cold night.\"  # Starting text for generating new words\n",
    "next_words = 100                    # Number of words to generate\n",
    "\n",
    "# Loop to generate the next 'next_words' words\n",
    "for _ in range(next_words):\n",
    "    \n",
    "    # Convert the seed text to a sequence of integers based on the tokenizer's vocabulary\n",
    "    token_list = tokenizer.texts_to_sequences([seed_text])[0]\n",
    "    \n",
    "    # Pad the sequence to ensure it matches the input length required by the model\n",
    "    token_list = pad_sequences([token_list], maxlen=max_seq_len-1, padding='pre')\n",
    "    \n",
    "    # Predict the probability distribution of the next word using the model\n",
    "    predicted_probs = model.predict(token_list, verbose=0)  # Use predict() to get probabilities\n",
    "    \n",
    "    # Get the index of the word with the highest predicted probability\n",
    "    predicted = np.argmax(predicted_probs, axis=-1)  # Find the index of the max probability\n",
    "    \n",
    "    output_word = \"\"  # Initialize an empty string to store the predicted word\n",
    "    \n",
    "    # Loop through the tokenizer's word index to find the word corresponding to the predicted index\n",
    "    for word, index in tokenizer.word_index.items():\n",
    "        \n",
    "        if index == predicted:  # Check if the index matches the predicted index\n",
    "            output_word = word  # If it matches, set the output word\n",
    "            break               # Exit the loop as we found the word\n",
    "    \n",
    "    # Append the predicted word to the seed text to form a new input for the next prediction\n",
    "    seed_text += \" \" + output_word\n",
    "\n",
    "print(seed_text)  # Print the generated text"
   ]
  },
  {
   "cell_type": "code",
   "execution_count": null,
   "metadata": {},
   "outputs": [],
   "source": []
  }
 ],
 "metadata": {
  "accelerator": "GPU",
  "colab": {
   "authorship_tag": "ABX9TyMuN4awaNnVTEn4aO8QlDbV",
   "collapsed_sections": [],
   "include_colab_link": true,
   "name": "04_02_begin.ipynb",
   "private_outputs": true,
   "provenance": []
  },
  "kernelspec": {
   "display_name": "Python 3 (ipykernel)",
   "language": "python",
   "name": "python3"
  },
  "language_info": {
   "codemirror_mode": {
    "name": "ipython",
    "version": 3
   },
   "file_extension": ".py",
   "mimetype": "text/x-python",
   "name": "python",
   "nbconvert_exporter": "python",
   "pygments_lexer": "ipython3",
   "version": "3.11.7"
  }
 },
 "nbformat": 4,
 "nbformat_minor": 4
}
